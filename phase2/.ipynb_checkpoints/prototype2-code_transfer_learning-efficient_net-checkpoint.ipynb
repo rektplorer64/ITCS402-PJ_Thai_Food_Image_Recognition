{
 "cells": [
  {
   "cell_type": "code",
   "execution_count": 1,
   "metadata": {},
   "outputs": [
    {
     "name": "stdout",
     "output_type": "stream",
     "text": [
      "['stewed_pork_leg', 'caesar_salad', 'countFileInEachClass.py', 'noodles_without_soup', 'coconut_milk_soup', 'kebab', 'hot_and_sour_fish_and_vegetable_ragout', 'steak_with_rice', 'chow_mein', 'noodles_with_fish_curry', 'pizza', 'crispy_pork_with_kale_with_rice', 'yellow_curry', 'rice_crispy_pork', 'rice_topped_with_stir_fried_meat_and_basil', 'omelette', 'steamed_chicken_with_rice', 'spring_rolls', 'pad_see_ew', 'spicy_stir_fried_pork_with_red_curry_paste', 'spaghetti_bolognese', 'barbecued_red_pork_in_sauce_with_rice', 'fried_rice', 'pad_thai', 'hamburger', 'onion_rings', 'khao_soi', 'fried_chicken_with_rice', 'green_curry', 'spicy_chicken_salad_with_rice', 'spaghetti_carbonara', 'peking_duck', 'steamed_rice_roll', 'fried_pork_with_rice', 'steak', 'charcoal-boiled_pork_neck', 'noodles', 'thai_papaya_salad', 'fried_mussel_pancakes']\n"
     ]
    }
   ],
   "source": [
    "import os\n",
    "\n",
    "# Get the absolute path of the dataset\n",
    "dataset_dir = os.path.abspath('../datasets/FINAL DATASET')\n",
    "# dataset_dir = \"C:\\\\Users\\\\rektplorer64\\\\OneDrive\\\\Pictures\\\\Wallpapers\"\n",
    "dataset_dir_file_folder_list = os.listdir(dataset_dir)\n",
    "\n",
    "print(dataset_dir_file_folder_list)"
   ]
  },
  {
   "cell_type": "code",
   "execution_count": 2,
   "metadata": {},
   "outputs": [
    {
     "name": "stdout",
     "output_type": "stream",
     "text": [
      "\n",
      "Trainning Set\n",
      "Found 8550 images belonging to 38 classes.\n",
      "Total: 8550 images\n",
      "\n",
      "Validation Set\n",
      "Found 950 images belonging to 38 classes.\n",
      "Total: 950 images\n",
      "\n",
      " ['barbecued_red_pork_in_sauce_with_rice', 'caesar_salad', 'charcoal-boiled_pork_neck', 'chow_mein', 'coconut_milk_soup', 'crispy_pork_with_kale_with_rice', 'fried_chicken_with_rice', 'fried_mussel_pancakes', 'fried_pork_with_rice', 'fried_rice', 'green_curry', 'hamburger', 'hot_and_sour_fish_and_vegetable_ragout', 'kebab', 'khao_soi', 'noodles', 'noodles_with_fish_curry', 'noodles_without_soup', 'omelette', 'onion_rings', 'pad_see_ew', 'pad_thai', 'peking_duck', 'pizza', 'rice_crispy_pork', 'rice_topped_with_stir_fried_meat_and_basil', 'spaghetti_bolognese', 'spaghetti_carbonara', 'spicy_chicken_salad_with_rice', 'spicy_stir_fried_pork_with_red_curry_paste', 'spring_rolls', 'steak', 'steak_with_rice', 'steamed_chicken_with_rice', 'steamed_rice_roll', 'stewed_pork_leg', 'thai_papaya_salad', 'yellow_curry']\n"
     ]
    }
   ],
   "source": [
    "import tensorflow as tf\n",
    "from tensorflow import keras\n",
    "from tensorflow.keras import preprocessing\n",
    "from tensorflow.keras.preprocessing import image_dataset_from_directory\n",
    "\n",
    "from keras.preprocessing.image import ImageDataGenerator\n",
    "\n",
    "import preprocess_crop\n",
    "\n",
    "batch_size = 25\n",
    "# dataset_ds = image_dataset_from_directory(\n",
    "#     dataset_dir,\n",
    "#     labels=\"inferred\",\n",
    "#     label_mode=\"int\",\n",
    "#     class_names=None,\n",
    "#     color_mode=\"rgb\",\n",
    "#     batch_size=32, \n",
    "#     image_size=(256, 256),\n",
    "#     shuffle=True,\n",
    "#     seed=None,\n",
    "#     validation_split=None,\n",
    "#     subset=None,\n",
    "#     interpolation=\"bilinear\",\n",
    "#     follow_links=False,\n",
    "# )\n",
    "\n",
    "data_augmentation_params = dict(\n",
    "    rescale=1./255,\n",
    "    rotation_range=100,\n",
    "    channel_shift_range=120,\n",
    "    horizontal_flip=True,\n",
    "    brightness_range=(0.9, 1.2),\n",
    "    shear_range=0.0,\n",
    "    zoom_range=0.0,\n",
    "    validation_split=0.1\n",
    ")\n",
    "\n",
    "dataset_gen = ImageDataGenerator(**data_augmentation_params)\n",
    "\n",
    "print('\\nTrainning Set')\n",
    "dataset_train_iterator = dataset_gen.flow_from_directory(\n",
    "    dataset_dir,\n",
    "    target_size = (256, 256),\n",
    "    batch_size  = batch_size,\n",
    "    class_mode  = 'categorical',\n",
    "    interpolation = 'lanczos:random', # <--------- random crop\n",
    "    shuffle = True,\n",
    "    subset='training'\n",
    ")\n",
    "print('Total:', dataset_train_iterator.n, 'images')\n",
    "\n",
    "print('\\nValidation Set')\n",
    "dataset_test_iterator = dataset_gen.flow_from_directory(\n",
    "    dataset_dir,\n",
    "    target_size = (256, 256),\n",
    "    batch_size  = batch_size,\n",
    "    class_mode  = 'categorical',\n",
    "    interpolation = 'lanczos:random', # <--------- random crop\n",
    "    shuffle = True,\n",
    "    subset='validation'\n",
    ")\n",
    "print('Total:', dataset_test_iterator.n, 'images')\n",
    "\n",
    "# print(dataset_iterator)\n",
    "\n",
    "class_names = list(dataset_train_iterator.class_indices)\n",
    "print('\\n', class_names)"
   ]
  },
  {
   "cell_type": "code",
   "execution_count": 3,
   "metadata": {},
   "outputs": [
    {
     "name": "stdout",
     "output_type": "stream",
     "text": [
      "2 25 256 256 3\n"
     ]
    },
    {
     "data": {
      "image/png": "[encoded data removed]",
      "text/plain": [
       "<Figure size 720x720 with 9 Axes>"
      ]
     },
     "metadata": {
      "needs_background": "light"
     },
     "output_type": "display_data"
    }
   ],
   "source": [
    "import matplotlib\n",
    "import matplotlib.pyplot as plt\n",
    "import numpy \n",
    "\n",
    "plt.figure(figsize=(10, 10))\n",
    "\n",
    "data = dataset_train_iterator.next()\n",
    "print(len(data), len(data[0]), len(data[0][0]), len(data[0][0][0]), len(data[0][0][0][0]))\n",
    "# print(dataset_ds.next())\n",
    "\n",
    "for i in range(9):  \n",
    "  image = numpy.array(list(data[0][i])).astype(\"uint8\")\n",
    "\n",
    "  ax = plt.subplot(3, 3, i + 1)\n",
    "  plt.imshow(numpy.array(list(image)).astype(\"uint8\"))\n",
    "  # plt.title(class_names[labels[i]])\n",
    "  plt.axis(\"off\")"
   ]
  },
  {
   "cell_type": "code",
   "execution_count": 4,
   "metadata": {},
   "outputs": [
    {
     "name": "stdout",
     "output_type": "stream",
     "text": [
      "Model: \"functional_1\"\n",
      "_________________________________________________________________\n",
      "Layer (type)                 Output Shape              Param #   \n",
      "=================================================================\n",
      "input_2 (InputLayer)         [(None, 256, 256, 3)]     0         \n",
      "_________________________________________________________________\n",
      "xception (Functional)        (None, 8, 8, 2048)        20861480  \n",
      "_________________________________________________________________\n",
      "global_average_pooling2d (Gl (None, 2048)              0         \n",
      "_________________________________________________________________\n",
      "dense (Dense)                (None, 100)               204900    \n",
      "_________________________________________________________________\n",
      "dropout (Dropout)            (None, 100)               0         \n",
      "_________________________________________________________________\n",
      "dense_1 (Dense)              (None, 100)               10100     \n",
      "_________________________________________________________________\n",
      "dense_2 (Dense)              (None, 100)               10100     \n",
      "_________________________________________________________________\n",
      "dense_3 (Dense)              (None, 38)                3838      \n",
      "=================================================================\n",
      "Total params: 21,090,418\n",
      "Trainable params: 228,938\n",
      "Non-trainable params: 20,861,480\n",
      "_________________________________________________________________\n"
     ]
    }
   ],
   "source": [
    "from keras.models import Sequential\n",
    "from keras.layers import Conv2D, MaxPooling2D, Flatten, Dense, Dropout, GlobalAveragePooling2D\n",
    "from keras.layers.normalization import BatchNormalization\n",
    "\n",
    "base_model = keras.applications.Xception(\n",
    "    weights='imagenet',  # Load weights pre-trained on ImageNet.\n",
    "    input_shape=dataset_train_iterator.image_shape,\n",
    "    include_top=False)  # Do not include the ImageNet classifier at the top.\n",
    "\n",
    "base_model.trainable = False\n",
    "\n",
    "inputs = keras.Input(shape=dataset_train_iterator.image_shape)\n",
    "model = base_model(inputs, training=False)\n",
    "model = GlobalAveragePooling2D()(model)\n",
    "\n",
    "model = Dense(100, activation = 'relu')(model)\n",
    "model = Dropout(0.2)(model)\n",
    "model = Dense(100, activation = 'relu')(model)\n",
    "model = Dense(100, activation = 'relu')(model)\n",
    "outputs = Dense(len(class_names), activation = 'softmax')(model)\n",
    "\n",
    "model = keras.Model(inputs, outputs)\n",
    "\n",
    "opt = keras.optimizers.Adam(learning_rate=0.0001)\n",
    "model.compile(loss='categorical_crossentropy', optimizer=opt, metrics=[\"accuracy\"])\n",
    "model.summary()\n",
    "\n"
   ]
  },
  {
   "cell_type": "code",
   "execution_count": null,
   "metadata": {},
   "outputs": [
    {
     "name": "stdout",
     "output_type": "stream",
     "text": [
      "Epoch 1/100\n",
      "342/342 [==============================] - ETA: 0s - loss: 3.4129 - accuracy: 0.1092"
     ]
    },
    {
     "name": "stderr",
     "output_type": "stream",
     "text": [
      "/home/psimilan/anaconda3/lib/python3.8/site-packages/PIL/TiffImagePlugin.py:785: UserWarning: Corrupt EXIF data.  Expecting to read 4 bytes but only got 0. \n",
      "  warnings.warn(str(msg))\n"
     ]
    },
    {
     "name": "stdout",
     "output_type": "stream",
     "text": [
      "342/342 [==============================] - 250s 732ms/step - loss: 3.4129 - accuracy: 0.1092 - val_loss: 2.9806 - val_accuracy: 0.2316\n",
      "Epoch 2/100\n",
      "342/342 [==============================] - 249s 729ms/step - loss: 2.6453 - accuracy: 0.2802 - val_loss: 2.3867 - val_accuracy: 0.3442\n",
      "Epoch 3/100\n",
      "342/342 [==============================] - 248s 726ms/step - loss: 2.0175 - accuracy: 0.4198 - val_loss: 2.0285 - val_accuracy: 0.4347\n",
      "Epoch 5/100\n",
      " 29/342 [=>............................] - ETA: 2:52 - loss: 1.8734 - accuracy: 0.4634"
     ]
    }
   ],
   "source": [
    "from keras.callbacks import EarlyStopping, ReduceLROnPlateau\n",
    "import numpy as np\n",
    "\n",
    "early = EarlyStopping(monitor='val_loss', min_delta=0, patience=5, verbose=1, mode='auto')\n",
    "#reduce = ReduceLROnPlateau(monitor='val_loss', factor=0.5, patience=3, verbose=1, mode='auto', min_lr=0.00001)\n",
    "model.fit(dataset_train_iterator,\n",
    "        steps_per_epoch=int(np.ceil(dataset_train_iterator.n / batch_size)),\n",
    "        epochs=100,\n",
    "        validation_data=dataset_test_iterator,\n",
    "        validation_steps=int(np.ceil(dataset_test_iterator.n / batch_size)),\n",
    "        verbose=1 \n",
    "           ,callbacks=[\n",
    "               early\n",
    "#               ,reduce\n",
    "           ]\n",
    "         )"
   ]
  },
  {
   "cell_type": "code",
   "execution_count": null,
   "metadata": {},
   "outputs": [],
   "source": [
    "import tensorflow as tf \n",
    "\n",
    "if tf.test.gpu_device_name(): \n",
    "\n",
    "    print('Default GPU Device:{}'.format(tf.test.gpu_device_name()))\n",
    "\n",
    "else:\n",
    "\n",
    "   print(\"Please install GPU version of TF\")"
   ]
  }
 ],
 "metadata": {
  "kernelspec": {
   "display_name": "Python 3",
   "language": "python",
   "name": "python3"
  },
  "language_info": {
   "codemirror_mode": {
    "name": "ipython",
    "version": 3
   },
   "file_extension": ".py",
   "mimetype": "text/x-python",
   "name": "python",
   "nbconvert_exporter": "python",
   "pygments_lexer": "ipython3",
   "version": "3.8.3"
  }
 },
 "nbformat": 4,
 "nbformat_minor": 4
}
